{
 "cells": [
  {
   "cell_type": "markdown",
   "metadata": {},
   "source": [
    "# QECSIM Documentation and Examples "
   ]
  },
  {
   "cell_type": "markdown",
   "metadata": {},
   "source": [
    "### QEC SIM :\n",
    "Python 3 package to simulate quantum error correction using stabilizer codes.\n",
    "It is lightweight, modular and extensible( allowing additional codes to be added), and we can also modify or even plug in own error models and decoders(for syndrome measurements)\n",
    "\n",
    "#### Three key abstract classes:  \n",
    "1. *qecsim.model.StabilizerCode*:Contains syntax for working with various stabilizer codes and logical subspaces\n",
    "2. *qecsim.model.ErrorModel* : Encodes a error model via a probability distribution function. (modular)\n",
    "3. *qecsim.model.Decoder* : Class contains objects for syndrome measurements. \n",
    "\n",
    "\n",
    "Important syntax aside from classes : \n",
    "* Error_probability : Input feeded to our probability distribution function. Error probability to be float in [0, 1].\n",
    "* qecsim.app.run_once(code, error_model, decoder, error_probability, rng=None) : Run the final circuit with all classes\n",
    "\n",
    "\n",
    "\n",
    "* Binary Symplectic Form $A\\circ B$ is given by A.I.B ;  Here I = Tensor with (Identity on diagonal elements)\n",
    "Pauli Operators (Stabilizers, logical operators and recovery operators) are represented in Binary Symplectic form\n",
    "It is means of representing elements of the Pauli group (neglecting global phases) using binary vectors a and b such that an element P of the Pauli group acting on n qubits is $X^{a}Z^{b} = X^{a_1}Z^{b_1}\n",
    "\\otimes \\ldots \\otimes X^{a_n}Z^{b_n}$.\n",
    "E.g.  \n",
    "1. numpy.array([0, 0, 1, 1, 0, 1, 1, 0]) = [0 0 1 1 | 0 1 1 0] = IZYX\n",
    "2. numpy.array([0, 1, 0, 1, 1, 1, 0, 0]) = [0 1 0 1 | 1 1 0 0] = ZYIX\n",
    "\n",
    "Symplectic form denoting action of Pauli operators on 4 qubits. Library contained in *qecsim.paulitools*\n",
    "\n",
    "\n"
   ]
  },
  {
   "cell_type": "markdown",
   "metadata": {},
   "source": [
    "#### Flowchart of Simulation : \n",
    "* We generate random Pauli error by passing code and *error_probability* to *qecsim.model.ErrorModel.generate()*.\n",
    "* Run the required stabilizer code by *qecsim.model.StabilizerCode*, which contains built in stabilizer codes. \n",
    "* $A\\circ B$\n",
    "* evaluate syndrome as *error* ⊙ *code.stabilizers$^T$* \n",
    "* generate step_measurement_errors[t] as syndrome bit-flips.\n",
    "* Finally calculate, syndrome[t] as step_measurement_errors[t-1] ⊕ step_syndromes[t] ⊕ step_measurement_errors[t].\n",
    "* evaluate error as ⨁ step_errors (all t values)\n",
    "* All this is internaly resolved decoding by passing code, time_steps and syndrome to qecsim.model.DecoderFTP.decode_ftp().\n",
    "* Finally, define recovered as decoding ⊕ error\n",
    "\n",
    "\n",
    "\n",
    "\n"
   ]
  },
  {
   "cell_type": "markdown",
   "metadata": {},
   "source": []
  },
  {
   "cell_type": "code",
   "execution_count": 7,
   "metadata": {},
   "outputs": [],
   "source": [
    "#Utility function for better coLoured and formatted results, from IPython.display import HTML\n",
    "\n",
    "# namespace\n",
    "class qsu:\n",
    "    \n",
    "    @staticmethod\n",
    "    def print_pauli(pauli):\n",
    "        text = str(pauli)\n",
    "        text = text.replace('X', '<span style=\"color:red; font-weight:bold\">X</span>')\n",
    "        text = text.replace('Y', '<span style=\"color:magenta; font-weight:bold\">Y</span>')\n",
    "        text = text.replace('Z', '<span style=\"color:blue; font-weight:bold\">Z</span>')\n",
    "        display(HTML('<div class=\"highlight\"><pre style=\"line-height:1!important;\">{}</pre></div>'.format(text))) "
   ]
  },
  {
   "cell_type": "code",
   "execution_count": 11,
   "metadata": {},
   "outputs": [
    {
     "name": "stdout",
     "output_type": "stream",
     "text": [
      "FiveQubitCode()\n",
      "DepolarizingErrorModel()\n",
      "NaiveDecoder(10)\n"
     ]
    }
   ],
   "source": [
    "import numpy as np\n",
    "from qecsim import paulitools as pt\n",
    "from qecsim.models.generic import DepolarizingErrorModel, NaiveDecoder\n",
    "from qecsim.models.basic import FiveQubitCode\n",
    "\n",
    "# initialise models\n",
    "my_code = FiveQubitCode()\n",
    "my_error_model = DepolarizingErrorModel()\n",
    "my_decoder = NaiveDecoder()\n",
    "# print models\n",
    "print(my_code)\n",
    "print(my_error_model)\n",
    "print(my_decoder)\n"
   ]
  },
  {
   "cell_type": "code",
   "execution_count": 12,
   "metadata": {},
   "outputs": [
    {
     "ename": "NameError",
     "evalue": "name 'HTML' is not defined",
     "output_type": "error",
     "traceback": [
      "\u001b[1;31m---------------------------------------------------------------------------\u001b[0m",
      "\u001b[1;31mNameError\u001b[0m                                 Traceback (most recent call last)",
      "\u001b[1;32m<ipython-input-12-59b6f73bf79f>\u001b[0m in \u001b[0;36m<module>\u001b[1;34m\u001b[0m\n\u001b[0;32m      6\u001b[0m \u001b[1;31m# error: random error based on error probability\u001b[0m\u001b[1;33m\u001b[0m\u001b[1;33m\u001b[0m\u001b[1;33m\u001b[0m\u001b[0m\n\u001b[0;32m      7\u001b[0m \u001b[0merror\u001b[0m \u001b[1;33m=\u001b[0m \u001b[0mmy_error_model\u001b[0m\u001b[1;33m.\u001b[0m\u001b[0mgenerate\u001b[0m\u001b[1;33m(\u001b[0m\u001b[0mmy_code\u001b[0m\u001b[1;33m,\u001b[0m \u001b[0merror_probability\u001b[0m\u001b[1;33m,\u001b[0m \u001b[0mrng\u001b[0m\u001b[1;33m)\u001b[0m\u001b[1;33m\u001b[0m\u001b[1;33m\u001b[0m\u001b[0m\n\u001b[1;32m----> 8\u001b[1;33m \u001b[0mqsu\u001b[0m\u001b[1;33m.\u001b[0m\u001b[0mprint_pauli\u001b[0m\u001b[1;33m(\u001b[0m\u001b[1;34m'error: {} {}'\u001b[0m\u001b[1;33m.\u001b[0m\u001b[0mformat\u001b[0m\u001b[1;33m(\u001b[0m\u001b[0merror\u001b[0m\u001b[1;33m,\u001b[0m \u001b[0mpt\u001b[0m\u001b[1;33m.\u001b[0m\u001b[0mbsf_to_pauli\u001b[0m\u001b[1;33m(\u001b[0m\u001b[0merror\u001b[0m\u001b[1;33m)\u001b[0m\u001b[1;33m)\u001b[0m\u001b[1;33m)\u001b[0m\u001b[1;33m\u001b[0m\u001b[1;33m\u001b[0m\u001b[0m\n\u001b[0m",
      "\u001b[1;32m<ipython-input-7-611bd3281c60>\u001b[0m in \u001b[0;36mprint_pauli\u001b[1;34m(pauli)\u001b[0m\n\u001b[0;32m     10\u001b[0m         \u001b[0mtext\u001b[0m \u001b[1;33m=\u001b[0m \u001b[0mtext\u001b[0m\u001b[1;33m.\u001b[0m\u001b[0mreplace\u001b[0m\u001b[1;33m(\u001b[0m\u001b[1;34m'Y'\u001b[0m\u001b[1;33m,\u001b[0m \u001b[1;34m'<span style=\"color:magenta; font-weight:bold\">Y</span>'\u001b[0m\u001b[1;33m)\u001b[0m\u001b[1;33m\u001b[0m\u001b[1;33m\u001b[0m\u001b[0m\n\u001b[0;32m     11\u001b[0m         \u001b[0mtext\u001b[0m \u001b[1;33m=\u001b[0m \u001b[0mtext\u001b[0m\u001b[1;33m.\u001b[0m\u001b[0mreplace\u001b[0m\u001b[1;33m(\u001b[0m\u001b[1;34m'Z'\u001b[0m\u001b[1;33m,\u001b[0m \u001b[1;34m'<span style=\"color:blue; font-weight:bold\">Z</span>'\u001b[0m\u001b[1;33m)\u001b[0m\u001b[1;33m\u001b[0m\u001b[1;33m\u001b[0m\u001b[0m\n\u001b[1;32m---> 12\u001b[1;33m         \u001b[0mdisplay\u001b[0m\u001b[1;33m(\u001b[0m\u001b[0mHTML\u001b[0m\u001b[1;33m(\u001b[0m\u001b[1;34m'<div class=\"highlight\"><pre style=\"line-height:1!important;\">{}</pre></div>'\u001b[0m\u001b[1;33m.\u001b[0m\u001b[0mformat\u001b[0m\u001b[1;33m(\u001b[0m\u001b[0mtext\u001b[0m\u001b[1;33m)\u001b[0m\u001b[1;33m)\u001b[0m\u001b[1;33m)\u001b[0m\u001b[1;33m\u001b[0m\u001b[1;33m\u001b[0m\u001b[0m\n\u001b[0m",
      "\u001b[1;31mNameError\u001b[0m: name 'HTML' is not defined"
     ]
    }
   ],
   "source": [
    "# set physical error probability to 10%\n",
    "error_probability = 0.1\n",
    "# seed random number generator for repeatability\n",
    "rng = np.random.default_rng(8)\n",
    "\n",
    "# error: random error based on error probability\n",
    "error = my_error_model.generate(my_code, error_probability, rng)\n",
    "qsu.print_pauli('error: {} {}'.format(error, pt.bsf_to_pauli(error)))\n"
   ]
  },
  {
   "cell_type": "markdown",
   "metadata": {},
   "source": [
    "The syndrome is a binary array indicating the stabilizers with which the error does not commute. It is calculated as syndrome=error⊙stabilisers$^T$.\n",
    "\n"
   ]
  },
  {
   "cell_type": "code",
   "execution_count": 13,
   "metadata": {},
   "outputs": [
    {
     "name": "stdout",
     "output_type": "stream",
     "text": [
      "syndrome: [0 1 0 1]\n"
     ]
    }
   ],
   "source": [
    "# syndrome: stabilizers that do not commute with the error\n",
    "syndrome = pt.bsp(error, my_code.stabilizers.T)\n",
    "print('syndrome: {}'.format(syndrome))\n"
   ]
  },
  {
   "cell_type": "markdown",
   "metadata": {},
   "source": [
    "Recovery operation :\n",
    "In this case, the recovery operation is found by using a naive decoder that iterates through all possible Pauli operations, in ascending weight, until it finds a recovery operation that gives the same syndrome as the random error, i.e. recovery⊙stabilisers$^T$=syndrome"
   ]
  },
  {
   "cell_type": "code",
   "execution_count": 14,
   "metadata": {},
   "outputs": [
    {
     "ename": "NameError",
     "evalue": "name 'HTML' is not defined",
     "output_type": "error",
     "traceback": [
      "\u001b[1;31m---------------------------------------------------------------------------\u001b[0m",
      "\u001b[1;31mNameError\u001b[0m                                 Traceback (most recent call last)",
      "\u001b[1;32m<ipython-input-14-9d462127033a>\u001b[0m in \u001b[0;36m<module>\u001b[1;34m\u001b[0m\n\u001b[0;32m      1\u001b[0m \u001b[1;31m# recovery: best match recovery operation based on decoder\u001b[0m\u001b[1;33m\u001b[0m\u001b[1;33m\u001b[0m\u001b[1;33m\u001b[0m\u001b[0m\n\u001b[0;32m      2\u001b[0m \u001b[0mrecovery\u001b[0m \u001b[1;33m=\u001b[0m \u001b[0mmy_decoder\u001b[0m\u001b[1;33m.\u001b[0m\u001b[0mdecode\u001b[0m\u001b[1;33m(\u001b[0m\u001b[0mmy_code\u001b[0m\u001b[1;33m,\u001b[0m \u001b[0msyndrome\u001b[0m\u001b[1;33m)\u001b[0m\u001b[1;33m\u001b[0m\u001b[1;33m\u001b[0m\u001b[0m\n\u001b[1;32m----> 3\u001b[1;33m \u001b[0mqsu\u001b[0m\u001b[1;33m.\u001b[0m\u001b[0mprint_pauli\u001b[0m\u001b[1;33m(\u001b[0m\u001b[1;34m'recovery: {} {}'\u001b[0m\u001b[1;33m.\u001b[0m\u001b[0mformat\u001b[0m\u001b[1;33m(\u001b[0m\u001b[0mrecovery\u001b[0m\u001b[1;33m,\u001b[0m \u001b[0mpt\u001b[0m\u001b[1;33m.\u001b[0m\u001b[0mbsf_to_pauli\u001b[0m\u001b[1;33m(\u001b[0m\u001b[0mrecovery\u001b[0m\u001b[1;33m)\u001b[0m\u001b[1;33m)\u001b[0m\u001b[1;33m)\u001b[0m\u001b[1;33m\u001b[0m\u001b[1;33m\u001b[0m\u001b[0m\n\u001b[0m",
      "\u001b[1;32m<ipython-input-7-611bd3281c60>\u001b[0m in \u001b[0;36mprint_pauli\u001b[1;34m(pauli)\u001b[0m\n\u001b[0;32m     10\u001b[0m         \u001b[0mtext\u001b[0m \u001b[1;33m=\u001b[0m \u001b[0mtext\u001b[0m\u001b[1;33m.\u001b[0m\u001b[0mreplace\u001b[0m\u001b[1;33m(\u001b[0m\u001b[1;34m'Y'\u001b[0m\u001b[1;33m,\u001b[0m \u001b[1;34m'<span style=\"color:magenta; font-weight:bold\">Y</span>'\u001b[0m\u001b[1;33m)\u001b[0m\u001b[1;33m\u001b[0m\u001b[1;33m\u001b[0m\u001b[0m\n\u001b[0;32m     11\u001b[0m         \u001b[0mtext\u001b[0m \u001b[1;33m=\u001b[0m \u001b[0mtext\u001b[0m\u001b[1;33m.\u001b[0m\u001b[0mreplace\u001b[0m\u001b[1;33m(\u001b[0m\u001b[1;34m'Z'\u001b[0m\u001b[1;33m,\u001b[0m \u001b[1;34m'<span style=\"color:blue; font-weight:bold\">Z</span>'\u001b[0m\u001b[1;33m)\u001b[0m\u001b[1;33m\u001b[0m\u001b[1;33m\u001b[0m\u001b[0m\n\u001b[1;32m---> 12\u001b[1;33m         \u001b[0mdisplay\u001b[0m\u001b[1;33m(\u001b[0m\u001b[0mHTML\u001b[0m\u001b[1;33m(\u001b[0m\u001b[1;34m'<div class=\"highlight\"><pre style=\"line-height:1!important;\">{}</pre></div>'\u001b[0m\u001b[1;33m.\u001b[0m\u001b[0mformat\u001b[0m\u001b[1;33m(\u001b[0m\u001b[0mtext\u001b[0m\u001b[1;33m)\u001b[0m\u001b[1;33m)\u001b[0m\u001b[1;33m)\u001b[0m\u001b[1;33m\u001b[0m\u001b[1;33m\u001b[0m\u001b[0m\n\u001b[0m",
      "\u001b[1;31mNameError\u001b[0m: name 'HTML' is not defined"
     ]
    }
   ],
   "source": [
    "# recovery: best match recovery operation based on decoder\n",
    "recovery = my_decoder.decode(my_code, syndrome)\n",
    "qsu.print_pauli('recovery: {} {}'.format(recovery, pt.bsf_to_pauli(recovery)))\n"
   ]
  },
  {
   "cell_type": "markdown",
   "metadata": {},
   "source": [
    "As a sanity check, we expect (recovery ⊕ error) to commute with all stabilizers, i.e. (recovery ⊕ error) ⊙ stabilisers$^T$=0.\n",
    "\n"
   ]
  },
  {
   "cell_type": "code",
   "execution_count": 15,
   "metadata": {},
   "outputs": [
    {
     "name": "stdout",
     "output_type": "stream",
     "text": [
      "[0 0 0 0]\n"
     ]
    }
   ],
   "source": [
    "# check recovery ^ error commutes with stabilizers (by construction)\n",
    "print(pt.bsp(recovery ^ error, my_code.stabilizers.T))\n"
   ]
  },
  {
   "cell_type": "markdown",
   "metadata": {},
   "source": [
    "##### Recovery Operation\n",
    "The recovery operation is successful iff recovery⊕error commutes with all logical operators, i.e. (recovery⊕error) ⊙ logicals$^T$=0.\n",
    "\n"
   ]
  },
  {
   "cell_type": "code",
   "execution_count": 16,
   "metadata": {},
   "outputs": [
    {
     "name": "stdout",
     "output_type": "stream",
     "text": [
      "[0 0]\n"
     ]
    }
   ],
   "source": [
    "# success iff recovery ^ error commutes with logicals\n",
    "print(pt.bsp(recovery ^ error, my_code.logicals.T))\n"
   ]
  },
  {
   "cell_type": "markdown",
   "metadata": {},
   "source": [
    "### Steane Code :"
   ]
  },
  {
   "cell_type": "code",
   "execution_count": 17,
   "metadata": {},
   "outputs": [
    {
     "name": "stdout",
     "output_type": "stream",
     "text": [
      "SteaneCode()\n",
      "DepolarizingErrorModel()\n",
      "NaiveDecoder(10)\n"
     ]
    }
   ],
   "source": [
    "import numpy as np\n",
    "from qecsim import paulitools as pt\n",
    "from qecsim.models.generic import DepolarizingErrorModel, NaiveDecoder\n",
    "from qecsim.models.basic import SteaneCode\n",
    "\n",
    "# initialise models\n",
    "my_code = SteaneCode()\n",
    "my_error_model = DepolarizingErrorModel()\n",
    "my_decoder = NaiveDecoder()\n",
    "# print models\n",
    "print(my_code)\n",
    "print(my_error_model)\n",
    "print(my_decoder)\n"
   ]
  },
  {
   "cell_type": "code",
   "execution_count": 18,
   "metadata": {},
   "outputs": [
    {
     "ename": "NameError",
     "evalue": "name 'HTML' is not defined",
     "output_type": "error",
     "traceback": [
      "\u001b[1;31m---------------------------------------------------------------------------\u001b[0m",
      "\u001b[1;31mNameError\u001b[0m                                 Traceback (most recent call last)",
      "\u001b[1;32m<ipython-input-18-59b6f73bf79f>\u001b[0m in \u001b[0;36m<module>\u001b[1;34m\u001b[0m\n\u001b[0;32m      6\u001b[0m \u001b[1;31m# error: random error based on error probability\u001b[0m\u001b[1;33m\u001b[0m\u001b[1;33m\u001b[0m\u001b[1;33m\u001b[0m\u001b[0m\n\u001b[0;32m      7\u001b[0m \u001b[0merror\u001b[0m \u001b[1;33m=\u001b[0m \u001b[0mmy_error_model\u001b[0m\u001b[1;33m.\u001b[0m\u001b[0mgenerate\u001b[0m\u001b[1;33m(\u001b[0m\u001b[0mmy_code\u001b[0m\u001b[1;33m,\u001b[0m \u001b[0merror_probability\u001b[0m\u001b[1;33m,\u001b[0m \u001b[0mrng\u001b[0m\u001b[1;33m)\u001b[0m\u001b[1;33m\u001b[0m\u001b[1;33m\u001b[0m\u001b[0m\n\u001b[1;32m----> 8\u001b[1;33m \u001b[0mqsu\u001b[0m\u001b[1;33m.\u001b[0m\u001b[0mprint_pauli\u001b[0m\u001b[1;33m(\u001b[0m\u001b[1;34m'error: {} {}'\u001b[0m\u001b[1;33m.\u001b[0m\u001b[0mformat\u001b[0m\u001b[1;33m(\u001b[0m\u001b[0merror\u001b[0m\u001b[1;33m,\u001b[0m \u001b[0mpt\u001b[0m\u001b[1;33m.\u001b[0m\u001b[0mbsf_to_pauli\u001b[0m\u001b[1;33m(\u001b[0m\u001b[0merror\u001b[0m\u001b[1;33m)\u001b[0m\u001b[1;33m)\u001b[0m\u001b[1;33m)\u001b[0m\u001b[1;33m\u001b[0m\u001b[1;33m\u001b[0m\u001b[0m\n\u001b[0m",
      "\u001b[1;32m<ipython-input-7-611bd3281c60>\u001b[0m in \u001b[0;36mprint_pauli\u001b[1;34m(pauli)\u001b[0m\n\u001b[0;32m     10\u001b[0m         \u001b[0mtext\u001b[0m \u001b[1;33m=\u001b[0m \u001b[0mtext\u001b[0m\u001b[1;33m.\u001b[0m\u001b[0mreplace\u001b[0m\u001b[1;33m(\u001b[0m\u001b[1;34m'Y'\u001b[0m\u001b[1;33m,\u001b[0m \u001b[1;34m'<span style=\"color:magenta; font-weight:bold\">Y</span>'\u001b[0m\u001b[1;33m)\u001b[0m\u001b[1;33m\u001b[0m\u001b[1;33m\u001b[0m\u001b[0m\n\u001b[0;32m     11\u001b[0m         \u001b[0mtext\u001b[0m \u001b[1;33m=\u001b[0m \u001b[0mtext\u001b[0m\u001b[1;33m.\u001b[0m\u001b[0mreplace\u001b[0m\u001b[1;33m(\u001b[0m\u001b[1;34m'Z'\u001b[0m\u001b[1;33m,\u001b[0m \u001b[1;34m'<span style=\"color:blue; font-weight:bold\">Z</span>'\u001b[0m\u001b[1;33m)\u001b[0m\u001b[1;33m\u001b[0m\u001b[1;33m\u001b[0m\u001b[0m\n\u001b[1;32m---> 12\u001b[1;33m         \u001b[0mdisplay\u001b[0m\u001b[1;33m(\u001b[0m\u001b[0mHTML\u001b[0m\u001b[1;33m(\u001b[0m\u001b[1;34m'<div class=\"highlight\"><pre style=\"line-height:1!important;\">{}</pre></div>'\u001b[0m\u001b[1;33m.\u001b[0m\u001b[0mformat\u001b[0m\u001b[1;33m(\u001b[0m\u001b[0mtext\u001b[0m\u001b[1;33m)\u001b[0m\u001b[1;33m)\u001b[0m\u001b[1;33m)\u001b[0m\u001b[1;33m\u001b[0m\u001b[1;33m\u001b[0m\u001b[0m\n\u001b[0m",
      "\u001b[1;31mNameError\u001b[0m: name 'HTML' is not defined"
     ]
    }
   ],
   "source": [
    "# set physical error probability to 10%\n",
    "error_probability = 0.1\n",
    "# seed random number generator for repeatability\n",
    "rng = np.random.default_rng(8)\n",
    "\n",
    "# error: random error based on error probability\n",
    "error = my_error_model.generate(my_code, error_probability, rng)\n",
    "qsu.print_pauli('error: {} {}'.format(error, pt.bsf_to_pauli(error)))\n"
   ]
  },
  {
   "cell_type": "code",
   "execution_count": 19,
   "metadata": {},
   "outputs": [
    {
     "name": "stdout",
     "output_type": "stream",
     "text": [
      "syndrome: [0 1 0 0 0 0]\n"
     ]
    }
   ],
   "source": [
    "# syndrome: stabilizers that do not commute with the error\n",
    "syndrome = pt.bsp(error, my_code.stabilizers.T)\n",
    "print('syndrome: {}'.format(syndrome))\n"
   ]
  },
  {
   "cell_type": "code",
   "execution_count": 20,
   "metadata": {},
   "outputs": [
    {
     "ename": "NameError",
     "evalue": "name 'HTML' is not defined",
     "output_type": "error",
     "traceback": [
      "\u001b[1;31m---------------------------------------------------------------------------\u001b[0m",
      "\u001b[1;31mNameError\u001b[0m                                 Traceback (most recent call last)",
      "\u001b[1;32m<ipython-input-20-9d462127033a>\u001b[0m in \u001b[0;36m<module>\u001b[1;34m\u001b[0m\n\u001b[0;32m      1\u001b[0m \u001b[1;31m# recovery: best match recovery operation based on decoder\u001b[0m\u001b[1;33m\u001b[0m\u001b[1;33m\u001b[0m\u001b[1;33m\u001b[0m\u001b[0m\n\u001b[0;32m      2\u001b[0m \u001b[0mrecovery\u001b[0m \u001b[1;33m=\u001b[0m \u001b[0mmy_decoder\u001b[0m\u001b[1;33m.\u001b[0m\u001b[0mdecode\u001b[0m\u001b[1;33m(\u001b[0m\u001b[0mmy_code\u001b[0m\u001b[1;33m,\u001b[0m \u001b[0msyndrome\u001b[0m\u001b[1;33m)\u001b[0m\u001b[1;33m\u001b[0m\u001b[1;33m\u001b[0m\u001b[0m\n\u001b[1;32m----> 3\u001b[1;33m \u001b[0mqsu\u001b[0m\u001b[1;33m.\u001b[0m\u001b[0mprint_pauli\u001b[0m\u001b[1;33m(\u001b[0m\u001b[1;34m'recovery: {} {}'\u001b[0m\u001b[1;33m.\u001b[0m\u001b[0mformat\u001b[0m\u001b[1;33m(\u001b[0m\u001b[0mrecovery\u001b[0m\u001b[1;33m,\u001b[0m \u001b[0mpt\u001b[0m\u001b[1;33m.\u001b[0m\u001b[0mbsf_to_pauli\u001b[0m\u001b[1;33m(\u001b[0m\u001b[0mrecovery\u001b[0m\u001b[1;33m)\u001b[0m\u001b[1;33m)\u001b[0m\u001b[1;33m)\u001b[0m\u001b[1;33m\u001b[0m\u001b[1;33m\u001b[0m\u001b[0m\n\u001b[0m",
      "\u001b[1;32m<ipython-input-7-611bd3281c60>\u001b[0m in \u001b[0;36mprint_pauli\u001b[1;34m(pauli)\u001b[0m\n\u001b[0;32m     10\u001b[0m         \u001b[0mtext\u001b[0m \u001b[1;33m=\u001b[0m \u001b[0mtext\u001b[0m\u001b[1;33m.\u001b[0m\u001b[0mreplace\u001b[0m\u001b[1;33m(\u001b[0m\u001b[1;34m'Y'\u001b[0m\u001b[1;33m,\u001b[0m \u001b[1;34m'<span style=\"color:magenta; font-weight:bold\">Y</span>'\u001b[0m\u001b[1;33m)\u001b[0m\u001b[1;33m\u001b[0m\u001b[1;33m\u001b[0m\u001b[0m\n\u001b[0;32m     11\u001b[0m         \u001b[0mtext\u001b[0m \u001b[1;33m=\u001b[0m \u001b[0mtext\u001b[0m\u001b[1;33m.\u001b[0m\u001b[0mreplace\u001b[0m\u001b[1;33m(\u001b[0m\u001b[1;34m'Z'\u001b[0m\u001b[1;33m,\u001b[0m \u001b[1;34m'<span style=\"color:blue; font-weight:bold\">Z</span>'\u001b[0m\u001b[1;33m)\u001b[0m\u001b[1;33m\u001b[0m\u001b[1;33m\u001b[0m\u001b[0m\n\u001b[1;32m---> 12\u001b[1;33m         \u001b[0mdisplay\u001b[0m\u001b[1;33m(\u001b[0m\u001b[0mHTML\u001b[0m\u001b[1;33m(\u001b[0m\u001b[1;34m'<div class=\"highlight\"><pre style=\"line-height:1!important;\">{}</pre></div>'\u001b[0m\u001b[1;33m.\u001b[0m\u001b[0mformat\u001b[0m\u001b[1;33m(\u001b[0m\u001b[0mtext\u001b[0m\u001b[1;33m)\u001b[0m\u001b[1;33m)\u001b[0m\u001b[1;33m)\u001b[0m\u001b[1;33m\u001b[0m\u001b[1;33m\u001b[0m\u001b[0m\n\u001b[0m",
      "\u001b[1;31mNameError\u001b[0m: name 'HTML' is not defined"
     ]
    }
   ],
   "source": [
    "# recovery: best match recovery operation based on decoder\n",
    "recovery = my_decoder.decode(my_code, syndrome)\n",
    "qsu.print_pauli('recovery: {} {}'.format(recovery, pt.bsf_to_pauli(recovery)))\n"
   ]
  },
  {
   "cell_type": "code",
   "execution_count": 21,
   "metadata": {},
   "outputs": [
    {
     "name": "stdout",
     "output_type": "stream",
     "text": [
      "[0 0 0 0 0 0]\n"
     ]
    }
   ],
   "source": [
    "# check recovery ^ error commutes with stabilizers (by construction)\n",
    "print(pt.bsp(recovery ^ error, my_code.stabilizers.T))\n"
   ]
  },
  {
   "cell_type": "code",
   "execution_count": 22,
   "metadata": {},
   "outputs": [
    {
     "name": "stdout",
     "output_type": "stream",
     "text": [
      "[0 0]\n"
     ]
    }
   ],
   "source": [
    "# success iff recovery ^ error commutes with logicals\n",
    "print(pt.bsp(recovery ^ error, my_code.logicals.T))\n"
   ]
  },
  {
   "cell_type": "markdown",
   "metadata": {},
   "source": [
    "## Comparison of Steane vs Five-Qubit Code : \n",
    "Plot statistics on many error correction simulation runs"
   ]
  },
  {
   "cell_type": "code",
   "execution_count": 23,
   "metadata": {},
   "outputs": [
    {
     "name": "stdout",
     "output_type": "stream",
     "text": [
      "Codes: ['5-qubit', 'Steane']\n",
      "Error model: Depolarizing\n",
      "Decoder: Naive\n",
      "Error probabilities: [0.         0.02631579 0.05263158 0.07894737 0.10526316 0.13157895\n",
      " 0.15789474 0.18421053 0.21052632 0.23684211 0.26315789 0.28947368\n",
      " 0.31578947 0.34210526 0.36842105 0.39473684 0.42105263 0.44736842\n",
      " 0.47368421 0.5       ]\n"
     ]
    }
   ],
   "source": [
    "%matplotlib inline\n",
    "import collections\n",
    "import itertools\n",
    "import numpy as np\n",
    "import matplotlib.pyplot as plt\n",
    "from qecsim import app\n",
    "from qecsim.models.generic import DepolarizingErrorModel, NaiveDecoder\n",
    "from qecsim.models.basic import FiveQubitCode, SteaneCode\n",
    "\n",
    "# set models\n",
    "codes = [FiveQubitCode(), SteaneCode()]\n",
    "error_model = DepolarizingErrorModel()\n",
    "decoder = NaiveDecoder()\n",
    "# set physical error probabilities\n",
    "error_probability_min, error_probability_max = 0, 0.5\n",
    "error_probabilities = np.linspace(error_probability_min, error_probability_max, 20)\n",
    "# set max_runs for each probability\n",
    "max_runs = 10000\n",
    "\n",
    "# print run parameters\n",
    "print('Codes:', [code.label for code in codes])\n",
    "print('Error model:', error_model.label)\n",
    "print('Decoder:', decoder.label)\n",
    "print('Error probabilities:', error_probabilities)\n"
   ]
  },
  {
   "cell_type": "code",
   "execution_count": 24,
   "metadata": {},
   "outputs": [
    {
     "name": "stdout",
     "output_type": "stream",
     "text": [
      "{'code': 'Steane', 'n_k_d': (7, 1, 3), 'time_steps': 1, 'error_model': 'Depolarizing', 'decoder': 'Naive', 'error_probability': 0.0, 'measurement_error_probability': 0.0, 'n_run': 10000, 'n_success': 10000, 'n_fail': 0, 'n_logical_commutations': (0, 0), 'custom_totals': None, 'error_weight_total': 0, 'error_weight_pvar': 0, 'logical_failure_rate': 0.0, 'physical_error_rate': 0.0, 'wall_time': 3.203084200000035}\n"
     ]
    }
   ],
   "source": [
    "# run simulations and print data from middle run to view format\n",
    "data = [app.run(code, error_model, decoder, error_probability, max_runs=max_runs)\n",
    "        for code in codes for error_probability in error_probabilities]\n",
    "print(data[len(data)//2])\n"
   ]
  },
  {
   "cell_type": "code",
   "execution_count": 25,
   "metadata": {},
   "outputs": [
    {
     "name": "stdout",
     "output_type": "stream",
     "text": [
      "5-qubit: [(0.0, 0.0), (0.02478, 0.0064), (0.05062, 0.0224), (0.0788, 0.0551), (0.10507999999999999, 0.0837), (0.13012, 0.1265), (0.16094, 0.1801), (0.18448, 0.2173), (0.2116, 0.2739), (0.23942, 0.3246), (0.264, 0.3656), (0.28858, 0.4138), (0.3158, 0.456), (0.34296, 0.5015), (0.36816, 0.5476), (0.39726, 0.5879), (0.42282, 0.6126), (0.4468, 0.6383), (0.47413999999999995, 0.6649), (0.50154, 0.6888)]\n",
      "Steane: [(0.0, 0.0), (0.026042857142857145, 0.0103), (0.05237142857142857, 0.0371), (0.0786, 0.0762), (0.10514285714285714, 0.1236), (0.1324, 0.1776), (0.15584285714285714, 0.2255), (0.18272857142857143, 0.2895), (0.2099285714285714, 0.3412), (0.23742857142857143, 0.4043), (0.26334285714285716, 0.4479), (0.29188571428571425, 0.4928), (0.31605714285714287, 0.5412), (0.3452, 0.5705), (0.3664428571428572, 0.6001), (0.39772857142857143, 0.6321), (0.41914285714285715, 0.6597), (0.4486285714285715, 0.687), (0.4698142857142857, 0.6987), (0.49925714285714284, 0.7148)]\n"
     ]
    }
   ],
   "source": [
    "#prepare code to x,y map and print\n",
    "code_to_xys = {}\n",
    "for run in data:\n",
    "    xys = code_to_xys.setdefault(run['code'], [])\n",
    "    xys.append((run['physical_error_rate'], run['logical_failure_rate']))\n",
    "print('\\n'.join('{}: {}'.format(k, v) for k, v in code_to_xys.items()))\n"
   ]
  },
  {
   "cell_type": "code",
   "execution_count": 26,
   "metadata": {},
   "outputs": [
    {
     "data": {
      "image/png": "[encoded data removed]",
      "text/plain": [
       "<Figure size 864x648 with 1 Axes>"
      ]
     },
     "metadata": {
      "needs_background": "light"
     },
     "output_type": "display_data"
    }
   ],
   "source": [
    "# format plot\n",
    "fig = plt.figure(1, figsize=(12, 9))\n",
    "plt.title('Linear code simulation\\n({} error model, {} decoder)'.format(error_model.label, decoder.label))\n",
    "plt.xlabel('Physical error rate')\n",
    "plt.ylabel('Logical failure rate')\n",
    "plt.xlim(error_probability_min-0.05, error_probability_max+0.05)\n",
    "plt.ylim(-0.05, 0.85)\n",
    "# add data\n",
    "for code, xys in code_to_xys.items():\n",
    "    plt.plot(*zip(*xys), 'x-', label='{} code'.format(code))\n",
    "plt.legend(loc='lower right')\n",
    "plt.show()\n"
   ]
  },
  {
   "cell_type": "markdown",
   "metadata": {},
   "source": [
    "## Surface Code Sim : "
   ]
  },
  {
   "cell_type": "code",
   "execution_count": 27,
   "metadata": {},
   "outputs": [
    {
     "name": "stdout",
     "output_type": "stream",
     "text": [
      "PlanarCode(5, 5)\n",
      "DepolarizingErrorModel()\n",
      "PlanarMWPMDecoder()\n"
     ]
    }
   ],
   "source": [
    "import numpy as np\n",
    "from qecsim import paulitools as pt\n",
    "from qecsim.models.generic import DepolarizingErrorModel\n",
    "from qecsim.models.planar import PlanarCode, PlanarMWPMDecoder\n",
    "\n",
    "# initialise models\n",
    "my_code = PlanarCode(5, 5)\n",
    "my_error_model = DepolarizingErrorModel()\n",
    "my_decoder = PlanarMWPMDecoder()\n",
    "# print models\n",
    "print(my_code)\n",
    "print(my_error_model)\n",
    "print(my_decoder)\n"
   ]
  },
  {
   "cell_type": "code",
   "execution_count": 28,
   "metadata": {},
   "outputs": [
    {
     "ename": "NameError",
     "evalue": "name 'HTML' is not defined",
     "output_type": "error",
     "traceback": [
      "\u001b[1;31m---------------------------------------------------------------------------\u001b[0m",
      "\u001b[1;31mNameError\u001b[0m                                 Traceback (most recent call last)",
      "\u001b[1;32m<ipython-input-28-643cfb748765>\u001b[0m in \u001b[0;36m<module>\u001b[1;34m\u001b[0m\n\u001b[0;32m      6\u001b[0m \u001b[1;31m# error: random error based on error probability\u001b[0m\u001b[1;33m\u001b[0m\u001b[1;33m\u001b[0m\u001b[1;33m\u001b[0m\u001b[0m\n\u001b[0;32m      7\u001b[0m \u001b[0merror\u001b[0m \u001b[1;33m=\u001b[0m \u001b[0mmy_error_model\u001b[0m\u001b[1;33m.\u001b[0m\u001b[0mgenerate\u001b[0m\u001b[1;33m(\u001b[0m\u001b[0mmy_code\u001b[0m\u001b[1;33m,\u001b[0m \u001b[0merror_probability\u001b[0m\u001b[1;33m,\u001b[0m \u001b[0mrng\u001b[0m\u001b[1;33m)\u001b[0m\u001b[1;33m\u001b[0m\u001b[1;33m\u001b[0m\u001b[0m\n\u001b[1;32m----> 8\u001b[1;33m \u001b[0mqsu\u001b[0m\u001b[1;33m.\u001b[0m\u001b[0mprint_pauli\u001b[0m\u001b[1;33m(\u001b[0m\u001b[1;34m'error:\\n{}'\u001b[0m\u001b[1;33m.\u001b[0m\u001b[0mformat\u001b[0m\u001b[1;33m(\u001b[0m\u001b[0mmy_code\u001b[0m\u001b[1;33m.\u001b[0m\u001b[0mnew_pauli\u001b[0m\u001b[1;33m(\u001b[0m\u001b[0merror\u001b[0m\u001b[1;33m)\u001b[0m\u001b[1;33m)\u001b[0m\u001b[1;33m)\u001b[0m\u001b[1;33m\u001b[0m\u001b[1;33m\u001b[0m\u001b[0m\n\u001b[0m",
      "\u001b[1;32m<ipython-input-7-611bd3281c60>\u001b[0m in \u001b[0;36mprint_pauli\u001b[1;34m(pauli)\u001b[0m\n\u001b[0;32m     10\u001b[0m         \u001b[0mtext\u001b[0m \u001b[1;33m=\u001b[0m \u001b[0mtext\u001b[0m\u001b[1;33m.\u001b[0m\u001b[0mreplace\u001b[0m\u001b[1;33m(\u001b[0m\u001b[1;34m'Y'\u001b[0m\u001b[1;33m,\u001b[0m \u001b[1;34m'<span style=\"color:magenta; font-weight:bold\">Y</span>'\u001b[0m\u001b[1;33m)\u001b[0m\u001b[1;33m\u001b[0m\u001b[1;33m\u001b[0m\u001b[0m\n\u001b[0;32m     11\u001b[0m         \u001b[0mtext\u001b[0m \u001b[1;33m=\u001b[0m \u001b[0mtext\u001b[0m\u001b[1;33m.\u001b[0m\u001b[0mreplace\u001b[0m\u001b[1;33m(\u001b[0m\u001b[1;34m'Z'\u001b[0m\u001b[1;33m,\u001b[0m \u001b[1;34m'<span style=\"color:blue; font-weight:bold\">Z</span>'\u001b[0m\u001b[1;33m)\u001b[0m\u001b[1;33m\u001b[0m\u001b[1;33m\u001b[0m\u001b[0m\n\u001b[1;32m---> 12\u001b[1;33m         \u001b[0mdisplay\u001b[0m\u001b[1;33m(\u001b[0m\u001b[0mHTML\u001b[0m\u001b[1;33m(\u001b[0m\u001b[1;34m'<div class=\"highlight\"><pre style=\"line-height:1!important;\">{}</pre></div>'\u001b[0m\u001b[1;33m.\u001b[0m\u001b[0mformat\u001b[0m\u001b[1;33m(\u001b[0m\u001b[0mtext\u001b[0m\u001b[1;33m)\u001b[0m\u001b[1;33m)\u001b[0m\u001b[1;33m)\u001b[0m\u001b[1;33m\u001b[0m\u001b[1;33m\u001b[0m\u001b[0m\n\u001b[0m",
      "\u001b[1;31mNameError\u001b[0m: name 'HTML' is not defined"
     ]
    }
   ],
   "source": [
    "# set physical error probability to 10%\n",
    "error_probability = 0.1\n",
    "# seed random number generator for repeatability\n",
    "rng = np.random.default_rng(59)\n",
    "\n",
    "# error: random error based on error probability\n",
    "error = my_error_model.generate(my_code, error_probability, rng)\n",
    "qsu.print_pauli('error:\\n{}'.format(my_code.new_pauli(error)))\n"
   ]
  },
  {
   "cell_type": "code",
   "execution_count": null,
   "metadata": {},
   "outputs": [],
   "source": [
    "# syndrome as stabilizers that do not commute with the error\n",
    "syndrome = pt.bsp(error, my_code.stabilizers.T)\n",
    "qsu.print_pauli(format(my_code.ascii_art(syndrome)))\n"
   ]
  },
  {
   "cell_type": "code",
   "execution_count": null,
   "metadata": {},
   "outputs": [],
   "source": []
  }
 ],
 "metadata": {
  "kernelspec": {
   "display_name": "Python 3",
   "language": "python",
   "name": "python3"
  },
  "language_info": {
   "codemirror_mode": {
    "name": "ipython",
    "version": 3
   },
   "file_extension": ".py",
   "mimetype": "text/x-python",
   "name": "python",
   "nbconvert_exporter": "python",
   "pygments_lexer": "ipython3",
   "version": "3.8.5"
  }
 },
 "nbformat": 4,
 "nbformat_minor": 4
}
